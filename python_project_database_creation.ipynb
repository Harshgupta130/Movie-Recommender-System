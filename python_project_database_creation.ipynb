{
 "cells": [
  {
   "cell_type": "code",
   "execution_count": null,
   "metadata": {},
   "outputs": [],
   "source": [
    "# you need my sql \n",
    "#creation of database mov_selc\n",
    "\n",
    "import mysql.connector\n",
    "\n",
    "mydb = mysql.connector.connect(\n",
    "host=\"localhost\",\n",
    "user=\"root\",\n",
    "password=\"Harsh@130\")#write your password of mysql\n",
    "\n",
    "print(mydb)\n",
    "mycursor=mydb.cursor()\n",
    "mycursor.execute(\"CREATE DATABASE mov_selc\")"
   ]
  },
  {
   "cell_type": "code",
   "execution_count": 11,
   "metadata": {},
   "outputs": [
    {
     "name": "stdout",
     "output_type": "stream",
     "text": [
      "information_schema\n",
      "mov_selc\n",
      "mysql\n",
      "performance_schema\n",
      "sakila\n",
      "sys\n",
      "test_student_k19ts\n",
      "world\n"
     ]
    }
   ],
   "source": [
    "# all database in mysystem of mysql\n",
    "\n",
    "mycursor.execute(\"SHOW DATABASES\")\n",
    "for db in mycursor:\n",
    "    print(db[0])"
   ]
  },
  {
   "cell_type": "code",
   "execution_count": 7,
   "metadata": {},
   "outputs": [],
   "source": [
    "#creation of table in database mov_selc \n",
    "\n",
    "import mysql.connector\n",
    "mydb = mysql.connector.connect(\n",
    "host=\"localhost\",\n",
    "user=\"root\",\n",
    "password=\"Harsh@130\",#write your password of mysql\n",
    "database=\"mov_selc\")\n",
    "mycursor=mydb.cursor()\n",
    "mycursor.execute(\"CREATE TABLE moviesz (scholar_no VARCHAR(255), Name VARCHAR(300),Release_year INT(10),Genre VARCHAR(255),Avg_rating INT(5),Adult VARCHAR(255),Watch VARCHAR(255))\")"
   ]
  },
  {
   "cell_type": "code",
   "execution_count": 9,
   "metadata": {},
   "outputs": [
    {
     "name": "stdout",
     "output_type": "stream",
     "text": [
      "20 records were inserted.\n"
     ]
    }
   ],
   "source": [
    "#inserting some movies to searc in table moviesz\n",
    "\n",
    "import mysql.connector\n",
    "mydb = mysql.connector.connect(\n",
    "host=\"localhost\",\n",
    "user=\"root\",\n",
    "password=\"Harsh@130\",#write your password of mysql\n",
    "database=\"mov_selc\")\n",
    "mycursor=mydb.cursor()\n",
    "sql = \"INSERT INTO moviesz (scholar_no,Name,Release_year,Genre,Avg_rating,Adult) VALUES (%s,%s,%s,%s,%s,%s)\"\n",
    "val = [('1','Saw','2004','Horror','3','No'),('2','The Orphange','2007','Horror','3.5','No'),('3','Return of the living dead','1985','Horror','4','No'),('4','Get out','2017','Horror','4','No'),('5','The witch','2015','Horror','3.5','No'),('1','Shape of water','2017','Romantic','4','Yes'),('2','Titanic','1998','Romantic','4','Yes'),('3','Call me by your name','2017','Romantic','3.5','Yes'),('4','Love & Basket ball','2000','Romantic','3','Yes'),('5','Crazy Rich Asians','2018','Romantic','4.5','No'),('1','The Big Sick','2017','Comedy','3.5','Yes'),('2','Books mark','2019','Comedy','3.5','No'),('3','Girls Trip','2017','Comedy','3','No'),('4','Knives Out','2019','Comedy','3.5','No'),('5','Juno','2007','Comedy','4','Yes'),('1','Avator','2009','Action','3.5','Yes'),('2','Drug war','2012','Action','3.5','Yes'),('3','Lucy','2014','Action','4','No'),('4','Blachat','2015','Action','4.5','Yes'),('5','The Guest','2014','Action','3','Yes'),]\n",
    "mycursor.executemany(sql,val)\n",
    "mydb.commit()\n",
    "print(mycursor.rowcount,\"records were inserted.\")"
   ]
  },
  {
   "cell_type": "code",
   "execution_count": 4,
   "metadata": {},
   "outputs": [
    {
     "name": "stdout",
     "output_type": "stream",
     "text": [
      "('1', 'Saw', 2004, 'Horror', 3, 'No', None)\n",
      "('2', 'The Orphange', 2007, 'Horror', 4, 'No', None)\n",
      "('3', 'Return of the living dead', 1985, 'Horror', 4, 'No', None)\n",
      "('4', 'Get out', 2017, 'Horror', 4, 'No', None)\n",
      "('5', 'The witch', 2015, 'Horror', 4, 'No', None)\n",
      "('1', 'Shape of water', 2017, 'Romantic', 4, 'Yes', None)\n",
      "('2', 'Titanic', 1998, 'Romantic', 4, 'Yes', None)\n",
      "('3', 'Call me by your name', 2017, 'Romantic', 4, 'Yes', None)\n",
      "('4', 'Love & Basket ball', 2000, 'Romantic', 3, 'Yes', None)\n",
      "('5', 'Crazy Rich Asians', 2018, 'Romantic', 5, 'No', None)\n",
      "('1', 'The Big Sick', 2017, 'Comedy', 4, 'Yes', None)\n",
      "('2', 'Books mark', 2019, 'Comedy', 4, 'No', None)\n",
      "('3', 'Girls Trip', 2017, 'Comedy', 3, 'No', None)\n",
      "('4', 'Knives Out', 2019, 'Comedy', 4, 'No', None)\n",
      "('5', 'Juno', 2007, 'Comedy', 4, 'Yes', None)\n",
      "('1', 'Avator', 2009, 'Action', 4, 'Yes', None)\n",
      "('2', 'Drug war', 2012, 'Action', 4, 'Yes', None)\n",
      "('3', 'Lucy', 2014, 'Action', 4, 'No', None)\n",
      "('4', 'Blachat', 2015, 'Action', 5, 'Yes', None)\n",
      "('5', 'The Guest', 2014, 'Action', 3, 'Yes', None)\n"
     ]
    }
   ],
   "source": [
    "#printing all movies in table moviesz\n",
    "\n",
    "import mysql.connector\n",
    "mydb = mysql.connector.connect(\n",
    "host=\"localhost\",\n",
    "user=\"root\",\n",
    "password=\"Harsh@130\",#write your password of mysql\n",
    "database=\"mov_selc\")\n",
    "mycursor=mydb.cursor()\n",
    "mycursor.execute(\"SELECT * FROM moviesz\")\n",
    "myresult = mycursor.fetchall()\n",
    "for x in myresult:\n",
    "    print(x)"
   ]
  },
  {
   "cell_type": "code",
   "execution_count": null,
   "metadata": {},
   "outputs": [],
   "source": []
  }
 ],
 "metadata": {
  "kernelspec": {
   "display_name": "Python 3",
   "language": "python",
   "name": "python3"
  },
  "language_info": {
   "codemirror_mode": {
    "name": "ipython",
    "version": 3
   },
   "file_extension": ".py",
   "mimetype": "text/x-python",
   "name": "python",
   "nbconvert_exporter": "python",
   "pygments_lexer": "ipython3",
   "version": "3.8.3"
  }
 },
 "nbformat": 4,
 "nbformat_minor": 4
}
